{
  "cells": [
    {
      "cell_type": "code",
      "execution_count": null,
      "metadata": {
        "id": "ayqazmybNwDt"
      },
      "outputs": [],
      "source": [
        "#Required packages\n",
        "import pandas as pd\n",
        "import numpy as np\n",
        "import tensorflow as tf\n",
        "from sklearn.model_selection import train_test_split\n",
        "from tensorflow.keras.utils import to_categorical\n",
        "from sklearn.utils import class_weight\n",
        "from sklearn.preprocessing import StandardScaler\n",
        "cmd='pip install plot-keras-history==1.1.30'\n",
        "import os\n",
        "os.system(cmd)\n",
        "from plot_keras_history import show_history, plot_history\n",
        "import matplotlib.pyplot as plt\n",
        "\n",
        "#fixed seed\n",
        "np.random.seed(0)\n",
        "\n",
        "#pre-processing of the data\n",
        "\n",
        "pulsarfile= open('/content/data.txt','r')\n",
        "pulsardata = pulsarfile.read()\n",
        "data=pulsardata.splitlines()\n",
        "features=data[0].split(',')\n",
        "\n",
        "\n",
        "for i in range(len(data)):\n",
        "  \n",
        "  data[i]=data[i].split(',')\n",
        "\n",
        "  if i>=1:\n",
        "\n",
        "    for j in range(len(data[i])):\n",
        "\n",
        "      data[i][j]=float(data[i][j])\n",
        "\n",
        "df = pd.DataFrame(data[1:],columns=features).astype(float)\n",
        "\n",
        "inp=df.loc[:,' Mean of the integrated profile':' Skewness of the DM-SNR curve' ]\n",
        "out=df.loc[:,features[-1]]\n"
      ]
    },
    {
      "cell_type": "code",
      "source": [
        "#splitting of the data set into a test set and a training set\n",
        "train_size=0.8\n",
        "test_size=1-train_size\n",
        "\n",
        "#print(out)\n",
        "X_train, X_test, Y_train, Y_test = train_test_split(inp, out, train_size=train_size, test_size=test_size)\n",
        "\n",
        "#handling of unbalanced data \n",
        "Y=np.unique(Y_train)\n",
        "class_weights = class_weight.compute_class_weight(class_weight='balanced', classes=Y , y=Y_train)\n",
        "class_weights = dict(enumerate(class_weights)),\n",
        "print(class_weights)\n",
        "\n",
        "#OneHot encoded vector\n",
        "Y_train=to_categorical(Y_train, num_classes=2)\n",
        "Y_test=to_categorical(Y_test, num_classes=2)\n",
        "\n",
        "#scaling of the data\n",
        "sc=StandardScaler()\n",
        "scaler = sc.fit(X_train)\n",
        "trainX_scaled = scaler.transform(X_train)\n",
        "testX_scaled = scaler.transform(X_test)\n"
      ],
      "metadata": {
        "colab": {
          "base_uri": "https://localhost:8080/"
        },
        "id": "D7sJ92ioDmg5",
        "outputId": "5ee76654-9fe6-423b-b7ca-f589a7522c16"
      },
      "execution_count": null,
      "outputs": [
        {
          "output_type": "stream",
          "name": "stdout",
          "text": [
            "3055     0.0\n",
            "10138    0.0\n",
            "3600     1.0\n",
            "16245    0.0\n",
            "6079     0.0\n",
            "        ... \n",
            "9225     1.0\n",
            "13123    0.0\n",
            "9845     0.0\n",
            "10799    0.0\n",
            "2732     0.0\n",
            "Name: target_class, Length: 14318, dtype: float64\n",
            "3580\n",
            "({0: 0.552690496410098, 1: 5.244688644688645},)\n",
            "3580\n",
            "14318\n"
          ]
        }
      ]
    },
    {
      "cell_type": "markdown",
      "metadata": {
        "id": "8tI4M3kkWvby"
      },
      "source": [
        "# Model and Fit\n"
      ]
    },
    {
      "cell_type": "code",
      "execution_count": null,
      "metadata": {
        "id": "GIx0ZY37h8Pi"
      },
      "outputs": [],
      "source": [
        "from tensorflow.keras.layers import Input\n",
        "from tensorflow.keras.models import Sequential     \n",
        "from tensorflow.keras.layers import Dense, Dropout           \n",
        "from tensorflow.keras import optimizers             \n",
        "from tensorflow.keras import regularizers           \n",
        "\n",
        "#creation of the model\n",
        "neurons_layer1 = 20\n",
        "neurons_layer2 = 20\n",
        "\n",
        "neurons_layer3=40\n",
        "n_categories = 2\n",
        "\n",
        "#Study made on the number of epochs and the batch size\n",
        "#epochs=np.arange(10,150,10)\n",
        "#batch_size=np.arange(10,200,20) \n",
        "\n",
        "epochs = 150\n",
        "batch_size = 30\n",
        "eta_values = np.logspace(-6, 1, 7)\n",
        "lmbd_values = np.logspace(-6, 1, 7)\n",
        "def neural_network(neurons_layer1,neurons_layer2,neurons_layer3, n_categories, eta, lmbd):\n",
        "    model = Sequential()\n",
        "    model.add(Dense(neurons_layer1, activation='sigmoid', kernel_regularizer=regularizers.l2(lmbd)))\n",
        "    model.add(Dense(neurons_layer2, activation='sigmoid', kernel_regularizer=regularizers.l2(lmbd)))\n",
        "    model.add(Dense(neurons_layer2, activation='sigmoid', kernel_regularizer=regularizers.l2(lmbd)))\n",
        "    model.add(Dense(neurons_layer2, activation='sigmoid', kernel_regularizer=regularizers.l2(lmbd)))\n",
        "    model.add(Dense(neurons_layer3, activation='sigmoid', kernel_regularizer=regularizers.l2(lmbd)))\n",
        "    model.add(Dense(neurons_layer3, activation='sigmoid', kernel_regularizer=regularizers.l2(lmbd)))\n",
        "    model.add(Dropout(0.4))\n",
        "    model.add(Dense(neurons_layer3, activation='sigmoid', kernel_regularizer=regularizers.l2(lmbd)))\n",
        "    model.add(Dense(n_categories, activation='sigmoid'))\n",
        "    \n",
        "    sgd = optimizers.Adam(lr=eta)\n",
        "    model.compile(loss='binary_crossentropy', optimizer=sgd, metrics=['accuracy'])\n",
        "    \n",
        "    return model\n"
      ]
    },
    {
      "cell_type": "code",
      "execution_count": null,
      "metadata": {
        "id": "Mda5n6Rji-gK"
      },
      "outputs": [],
      "source": [
        "Network_keras=np.zeros((len(eta_values),len(lmbd_values)),dtype=object)\n",
        "#Looking for the best set of hyperparameters\n",
        "for i, eta in enumerate(eta_values):\n",
        "    for j, lmbd in enumerate(lmbd_values):\n",
        "        Network = neural_network(neurons_layer1, neurons_layer2, neurons_layer2, n_categories,\n",
        "                                         eta=eta, lmbd=lmbd)\n",
        "        Network.fit(trainX_scaled, Y_train, epochs=epochs, batch_size=batch_size, verbose=0,class_weight=class_weights[0])\n",
        "        scores = Network.evaluate(testX_scaled, Y_test)\n",
        "        \n",
        "        Network_keras[i][j] = Network\n",
        "        \n",
        "        print(\"Learning rate = \", eta)\n",
        "        print(\"lambda = \", lmbd)\n",
        "        print(\"Test accuracy: %.3f\" % scores[1])\n",
        "        print(\"Test loss: %.3f\" % scores[0])\n"
      ]
    },
    {
      "cell_type": "code",
      "source": [
        "Network = neural_network(neurons_layer1,neurons_layer2, neurons_layer2, n_categories,\n",
        "                                        eta=0.001, lmbd=0.0001)\n",
        "history = Network.fit(trainX_scaled, Y_train,batch_size=batch_size,epochs=epochs, verbose=1,class_weight=class_weights[0])\n",
        "show_history(history)\n",
        "plot_history(history, path=\"standard.png\")\n",
        "plt.close()"
      ],
      "metadata": {
        "id": "5jca5eet-CCn"
      },
      "execution_count": null,
      "outputs": []
    },
    {
      "cell_type": "code",
      "source": [
        " scores = Network.evaluate(testX_scaled, Y_test)\n",
        " scores\n"
      ],
      "metadata": {
        "colab": {
          "base_uri": "https://localhost:8080/"
        },
        "id": "Iz-bwghJFdwq",
        "outputId": "66f51779-2b20-41d6-f102-07c158a753f1"
      },
      "execution_count": null,
      "outputs": [
        {
          "output_type": "stream",
          "name": "stdout",
          "text": [
            "112/112 [==============================] - 1s 2ms/step - loss: 0.1030 - accuracy: 0.9799\n"
          ]
        },
        {
          "output_type": "execute_result",
          "data": {
            "text/plain": [
              "[0.10301618278026581, 0.9798882603645325]"
            ]
          },
          "metadata": {},
          "execution_count": 67
        }
      ]
    },
    {
      "cell_type": "code",
      "source": [
        "#summary of the model \n",
        "Network.summary()"
      ],
      "metadata": {
        "colab": {
          "base_uri": "https://localhost:8080/"
        },
        "id": "ghAw0-b9mLyP",
        "outputId": "1ca7827e-7b41-414d-e984-225ece85379d"
      },
      "execution_count": null,
      "outputs": [
        {
          "output_type": "stream",
          "name": "stdout",
          "text": [
            "Model: \"sequential_68\"\n",
            "_________________________________________________________________\n",
            " Layer (type)                Output Shape              Param #   \n",
            "=================================================================\n",
            " dense_544 (Dense)           (None, 20)                180       \n",
            "                                                                 \n",
            " dense_545 (Dense)           (None, 20)                420       \n",
            "                                                                 \n",
            " dense_546 (Dense)           (None, 20)                420       \n",
            "                                                                 \n",
            " dense_547 (Dense)           (None, 20)                420       \n",
            "                                                                 \n",
            " dense_548 (Dense)           (None, 20)                420       \n",
            "                                                                 \n",
            " dense_549 (Dense)           (None, 20)                420       \n",
            "                                                                 \n",
            " dense_550 (Dense)           (None, 20)                420       \n",
            "                                                                 \n",
            " dense_551 (Dense)           (None, 2)                 42        \n",
            "                                                                 \n",
            "=================================================================\n",
            "Total params: 2,742\n",
            "Trainable params: 2,742\n",
            "Non-trainable params: 0\n",
            "_________________________________________________________________\n"
          ]
        }
      ]
    },
    {
      "cell_type": "code",
      "execution_count": null,
      "metadata": {
        "colab": {
          "base_uri": "https://localhost:8080/",
          "height": 1000
        },
        "id": "-ArZF46Smu5e",
        "outputId": "728b49c2-44dd-4dc0-a7ae-59c6892e9065"
      },
      "outputs": [
        {
          "output_type": "stream",
          "name": "stdout",
          "text": [
            "448/448 [==============================] - 1s 3ms/step - loss: 0.6811 - accuracy: 0.9603\n",
            "112/112 [==============================] - 0s 3ms/step - loss: 0.6810 - accuracy: 0.9656\n",
            "448/448 [==============================] - 1s 3ms/step - loss: 0.6995 - accuracy: 0.9219\n",
            "112/112 [==============================] - 1s 11ms/step - loss: 0.6995 - accuracy: 0.9263\n",
            "448/448 [==============================] - 2s 5ms/step - loss: 0.7649 - accuracy: 0.0953\n",
            "112/112 [==============================] - 0s 3ms/step - loss: 0.7649 - accuracy: 0.0765\n",
            "448/448 [==============================] - 1s 2ms/step - loss: 1.3175 - accuracy: 0.0953\n",
            "112/112 [==============================] - 0s 2ms/step - loss: 1.3176 - accuracy: 0.0765\n",
            "448/448 [==============================] - 1s 2ms/step - loss: 6.8432 - accuracy: 0.0953\n",
            "112/112 [==============================] - 0s 2ms/step - loss: 6.8433 - accuracy: 0.0765\n",
            "448/448 [==============================] - 1s 2ms/step - loss: 88.1523 - accuracy: 0.9047\n",
            "112/112 [==============================] - 0s 2ms/step - loss: 88.1523 - accuracy: 0.9235\n",
            "448/448 [==============================] - 1s 2ms/step - loss: 1279.0143 - accuracy: 0.9047\n",
            "112/112 [==============================] - 0s 2ms/step - loss: 1279.0156 - accuracy: 0.9235\n",
            "448/448 [==============================] - 1s 2ms/step - loss: 0.1443 - accuracy: 0.9661\n",
            "112/112 [==============================] - 0s 2ms/step - loss: 0.1388 - accuracy: 0.9712\n",
            "448/448 [==============================] - 1s 2ms/step - loss: 0.1679 - accuracy: 0.9612\n",
            "112/112 [==============================] - 0s 2ms/step - loss: 0.1633 - accuracy: 0.9615\n",
            "448/448 [==============================] - 1s 2ms/step - loss: 0.7161 - accuracy: 0.0953\n",
            "112/112 [==============================] - 0s 2ms/step - loss: 0.7163 - accuracy: 0.0765\n",
            "448/448 [==============================] - 1s 2ms/step - loss: 0.7102 - accuracy: 0.0953\n",
            "112/112 [==============================] - 0s 2ms/step - loss: 0.7105 - accuracy: 0.0765\n",
            "448/448 [==============================] - 1s 2ms/step - loss: 0.6838 - accuracy: 0.9047\n",
            "112/112 [==============================] - 0s 2ms/step - loss: 0.6834 - accuracy: 0.9235\n",
            "448/448 [==============================] - 1s 2ms/step - loss: 0.6842 - accuracy: 0.9047\n",
            "112/112 [==============================] - 0s 2ms/step - loss: 0.6837 - accuracy: 0.9235\n",
            "448/448 [==============================] - 1s 2ms/step - loss: 0.6845 - accuracy: 0.9047\n",
            "112/112 [==============================] - 0s 2ms/step - loss: 0.6841 - accuracy: 0.9235\n",
            "448/448 [==============================] - 1s 2ms/step - loss: 0.1587 - accuracy: 0.9607\n",
            "112/112 [==============================] - 0s 2ms/step - loss: 0.1576 - accuracy: 0.9656\n",
            "448/448 [==============================] - 1s 2ms/step - loss: 0.1331 - accuracy: 0.9700\n",
            "112/112 [==============================] - 0s 2ms/step - loss: 0.1292 - accuracy: 0.9754\n",
            "448/448 [==============================] - 1s 2ms/step - loss: 0.6635 - accuracy: 0.9047\n",
            "112/112 [==============================] - 0s 2ms/step - loss: 0.6621 - accuracy: 0.9235\n",
            "448/448 [==============================] - 1s 2ms/step - loss: 0.6812 - accuracy: 0.9047\n",
            "112/112 [==============================] - 0s 2ms/step - loss: 0.6806 - accuracy: 0.9235\n",
            "448/448 [==============================] - 1s 2ms/step - loss: 0.7222 - accuracy: 0.0953\n",
            "112/112 [==============================] - 0s 2ms/step - loss: 0.7235 - accuracy: 0.0765\n",
            "448/448 [==============================] - 1s 2ms/step - loss: 0.6877 - accuracy: 0.9047\n",
            "112/112 [==============================] - 0s 2ms/step - loss: 0.6874 - accuracy: 0.9235\n",
            "448/448 [==============================] - 1s 2ms/step - loss: 0.7131 - accuracy: 0.0953\n",
            "112/112 [==============================] - 0s 4ms/step - loss: 0.7140 - accuracy: 0.0765\n",
            "448/448 [==============================] - 1s 2ms/step - loss: 0.1477 - accuracy: 0.9524\n",
            "112/112 [==============================] - 0s 2ms/step - loss: 0.1483 - accuracy: 0.9559\n",
            "448/448 [==============================] - 1s 2ms/step - loss: 0.1811 - accuracy: 0.9469\n",
            "112/112 [==============================] - 0s 2ms/step - loss: 0.1822 - accuracy: 0.9480\n",
            "448/448 [==============================] - 1s 2ms/step - loss: 0.6827 - accuracy: 0.9047\n",
            "112/112 [==============================] - 0s 2ms/step - loss: 0.6822 - accuracy: 0.9235\n",
            "448/448 [==============================] - 1s 2ms/step - loss: 0.6913 - accuracy: 0.9047\n",
            "112/112 [==============================] - 0s 3ms/step - loss: 0.6913 - accuracy: 0.9235\n",
            "448/448 [==============================] - 1s 2ms/step - loss: 0.7065 - accuracy: 0.0953\n",
            "112/112 [==============================] - 0s 2ms/step - loss: 0.7071 - accuracy: 0.0765\n",
            "448/448 [==============================] - 1s 2ms/step - loss: 0.6811 - accuracy: 0.9047\n",
            "112/112 [==============================] - 0s 2ms/step - loss: 0.6805 - accuracy: 0.9235\n",
            "448/448 [==============================] - 1s 2ms/step - loss: 0.6938 - accuracy: 0.9047\n",
            "112/112 [==============================] - 0s 2ms/step - loss: 0.6936 - accuracy: 0.9235\n",
            "448/448 [==============================] - 1s 3ms/step - loss: 0.7487 - accuracy: 0.0953\n",
            "112/112 [==============================] - 0s 2ms/step - loss: 0.7512 - accuracy: 0.0765\n",
            "448/448 [==============================] - 1s 2ms/step - loss: 0.7286 - accuracy: 0.0953\n",
            "112/112 [==============================] - 0s 2ms/step - loss: 0.7302 - accuracy: 0.0765\n",
            "448/448 [==============================] - 1s 3ms/step - loss: 0.8155 - accuracy: 0.0953\n",
            "112/112 [==============================] - 0s 2ms/step - loss: 0.8208 - accuracy: 0.0765\n",
            "448/448 [==============================] - 1s 3ms/step - loss: 0.6842 - accuracy: 0.9047\n",
            "112/112 [==============================] - 0s 2ms/step - loss: 0.6837 - accuracy: 0.9235\n",
            "448/448 [==============================] - 1s 3ms/step - loss: 0.7059 - accuracy: 0.0953\n",
            "112/112 [==============================] - 0s 2ms/step - loss: 0.7063 - accuracy: 0.0765\n",
            "448/448 [==============================] - 1s 3ms/step - loss: 0.7183 - accuracy: 0.9047\n",
            "112/112 [==============================] - 0s 2ms/step - loss: 0.7160 - accuracy: 0.9235\n",
            "448/448 [==============================] - 1s 2ms/step - loss: 1.8136 - accuracy: 0.0953\n",
            "112/112 [==============================] - 0s 2ms/step - loss: 1.8170 - accuracy: 0.0765\n",
            "448/448 [==============================] - 1s 2ms/step - loss: 2.5857 - accuracy: 0.0953\n",
            "112/112 [==============================] - 0s 2ms/step - loss: 2.6382 - accuracy: 0.0765\n",
            "448/448 [==============================] - 1s 2ms/step - loss: 1.2254 - accuracy: 0.0953\n",
            "112/112 [==============================] - 0s 2ms/step - loss: 1.2445 - accuracy: 0.0765\n",
            "448/448 [==============================] - 1s 3ms/step - loss: 0.3906 - accuracy: 0.9047\n",
            "112/112 [==============================] - 0s 2ms/step - loss: 0.3692 - accuracy: 0.9235\n",
            "448/448 [==============================] - 1s 2ms/step - loss: 0.4955 - accuracy: 0.9047\n",
            "112/112 [==============================] - 0s 2ms/step - loss: 0.4136 - accuracy: 0.9235\n",
            "448/448 [==============================] - 1s 2ms/step - loss: 2.8974 - accuracy: 0.0953\n",
            "112/112 [==============================] - 0s 3ms/step - loss: 2.9329 - accuracy: 0.0765\n",
            "448/448 [==============================] - 1s 3ms/step - loss: 16.3267 - accuracy: 0.0953\n",
            "112/112 [==============================] - 0s 2ms/step - loss: 16.3269 - accuracy: 0.0765\n",
            "448/448 [==============================] - 1s 2ms/step - loss: 230.3609 - accuracy: 0.0953\n",
            "112/112 [==============================] - 0s 2ms/step - loss: 230.3719 - accuracy: 0.0765\n",
            "448/448 [==============================] - 1s 2ms/step - loss: 26.4598 - accuracy: 0.9047\n",
            "112/112 [==============================] - 0s 2ms/step - loss: 21.2427 - accuracy: 0.9235\n",
            "448/448 [==============================] - 1s 2ms/step - loss: 233.4825 - accuracy: 0.0953\n",
            "112/112 [==============================] - 0s 3ms/step - loss: 238.3333 - accuracy: 0.0765\n",
            "448/448 [==============================] - 1s 3ms/step - loss: 66.8507 - accuracy: 0.0953\n",
            "112/112 [==============================] - 0s 2ms/step - loss: 68.2367 - accuracy: 0.0765\n",
            "448/448 [==============================] - 1s 2ms/step - loss: 7.8772 - accuracy: 0.9047\n",
            "112/112 [==============================] - 0s 2ms/step - loss: 6.6636 - accuracy: 0.9235\n",
            "448/448 [==============================] - 1s 2ms/step - loss: 51.8245 - accuracy: 0.9047\n",
            "112/112 [==============================] - 0s 2ms/step - loss: 50.4447 - accuracy: 0.9235\n",
            "448/448 [==============================] - 1s 2ms/step - loss: 850.2101 - accuracy: 0.0953\n",
            "112/112 [==============================] - 0s 2ms/step - loss: 854.5452 - accuracy: 0.0765\n",
            "448/448 [==============================] - 1s 2ms/step - loss: 17720.9375 - accuracy: 0.0953\n",
            "112/112 [==============================] - 0s 2ms/step - loss: 17721.4766 - accuracy: 0.0765\n"
          ]
        },
        {
          "output_type": "display_data",
          "data": {
            "image/png": "[encoded data removed]",
            "text/plain": [
              "<Figure size 720x720 with 3 Axes>"
            ]
          },
          "metadata": {}
        },
        {
          "output_type": "display_data",
          "data": {
            "image/png": "[encoded data removed]",
            "text/plain": [
              "<Figure size 720x720 with 3 Axes>"
            ]
          },
          "metadata": {}
        }
      ],
      "source": [
        "#Looking at the grid search\n",
        "import seaborn as sns\n",
        "import matplotlib.pyplot as plt\n",
        "\n",
        "sns.set()\n",
        "\n",
        "train_accuracy = np.zeros((len(eta_values), len(lmbd_values)))\n",
        "test_accuracy = np.zeros((len(eta_values), len(lmbd_values)))\n",
        "\n",
        "for i in range(len(eta_values)):\n",
        "    for j in range(len(lmbd_values)):\n",
        "        Network = Network_keras[i][j]\n",
        "\n",
        "        train_accuracy[i][j] = Network.evaluate(trainX_scaled, Y_train)[1]\n",
        "        test_accuracy[i][j] = Network.evaluate(testX_scaled, Y_test)[1]\n",
        "\n",
        "      \n",
        "fig, ax = plt.subplots(figsize = (10, 10))\n",
        "sns.heatmap(train_accuracy, annot=True, ax=ax, cmap=\"viridis\")\n",
        "ax.set_ylabel(\"$\\eta$\")\n",
        "ax.set_xlabel(\"$\\lambda$\")\n",
        "ax.set_title(\"Training Accuracy\")\n",
        "\n",
        "plt.plot(heatmap2=sns.heatmap(train_accuracy, annot=True, ax=ax, cmap=\"viridis\"))\n",
        "ax.set_ylabel(\"$\\eta$\")\n",
        "ax.set_xlabel(\"$\\lambda$\")\n",
        "ax.set_title(\"Training Accuracy\")\n",
        "\n",
        "plt.savefig(\"/content/training_accuracy1.png\")\n",
        "\n",
        "fig, ax = plt.subplots(figsize = (10, 10))\n",
        "sns.heatmap(test_accuracy, annot=True, ax=ax, cmap=\"viridis\")\n",
        "ax.set_title(\"Test Accuracy\")\n",
        "ax.set_ylabel(\"$\\eta$\")\n",
        "ax.set_xlabel(\"$\\lambda$\")\n",
        "plt.plot(heatmap3=sns.heatmap(test_accuracy, annot=True, ax=ax, cmap=\"viridis\"))\n",
        "ax.set_title(\"Test Accuracy\")\n",
        "ax.set_ylabel(\"$\\eta$\")\n",
        "ax.set_xlabel(\"$\\lambda$\")\n",
        "plt.savefig(\"/content/test_accuracy1.png\")"
      ]
    },
    {
      "cell_type": "code",
      "source": [
        "from sklearn.metrics import confusion_matrix\n",
        "#Network_keras=np.zeros((len(batch_size)),dtype=object)\n",
        "j=0\n",
        "eta=0.01\n",
        "lmbd=0.00001\n",
        "for i in batch_size:\n",
        "      Network = neural_network(neurons_layer1, neurons_layer2, n_categories, \n",
        "                                eta=0.01, lmbd=0.00001)\n",
        "\n",
        "      Network.fit(trainX_scaled, Y_train, epochs=epochs, batch_size=i, verbose=0, class_weight=class_weights[0])\n",
        "      scores = Network.evaluate(testX_scaled, Y_test)\n",
        "        \n",
        "     # Network_keras[j] = Network\n",
        "      j+=1\n",
        "        \n",
        "      print(\"Learning rate = \", eta)\n",
        "      print(\"lambda = \", lmbd)\n",
        "      print(\"Test accuracy: %.3f\" % scores[1])\n",
        "      print(\"Test loss: %.3f\" % scores[0])\n",
        "      predicted= Network.predict(testX_scaled)\n",
        "      predicted=np.argmax(predicted, axis=1)\n",
        "      Y_test2=np.argmax(Y_test, axis=1)\n",
        "      cm = confusion_matrix(Y_test2,predicted)\n",
        "      print(cm)\n"
      ],
      "metadata": {
        "colab": {
          "base_uri": "https://localhost:8080/"
        },
        "id": "sdYXuaotcHzz",
        "outputId": "37540b4f-1acb-4e43-a7ed-8db1d00d8dc1"
      },
      "execution_count": null,
      "outputs": [
        {
          "output_type": "stream",
          "name": "stderr",
          "text": [
            "/usr/local/lib/python3.7/dist-packages/keras/optimizer_v2/adam.py:105: UserWarning: The `lr` argument is deprecated, use `learning_rate` instead.\n",
            "  super(Adam, self).__init__(name, **kwargs)\n"
          ]
        },
        {
          "output_type": "stream",
          "name": "stdout",
          "text": [
            "112/112 [==============================] - 0s 2ms/step - loss: 0.1472 - accuracy: 0.9631\n",
            "Learning rate =  0.01\n",
            "lambda =  1e-05\n",
            "Test accuracy: 0.963\n",
            "Test loss: 0.147\n",
            "[[3193  113]\n",
            " [  19  255]]\n"
          ]
        },
        {
          "output_type": "stream",
          "name": "stderr",
          "text": [
            "/usr/local/lib/python3.7/dist-packages/keras/optimizer_v2/adam.py:105: UserWarning: The `lr` argument is deprecated, use `learning_rate` instead.\n",
            "  super(Adam, self).__init__(name, **kwargs)\n"
          ]
        },
        {
          "output_type": "stream",
          "name": "stdout",
          "text": [
            "112/112 [==============================] - 0s 2ms/step - loss: 0.1875 - accuracy: 0.9606\n",
            "Learning rate =  0.01\n",
            "lambda =  1e-05\n",
            "Test accuracy: 0.961\n",
            "Test loss: 0.187\n",
            "[[3185  121]\n",
            " [  20  254]]\n"
          ]
        },
        {
          "output_type": "stream",
          "name": "stderr",
          "text": [
            "/usr/local/lib/python3.7/dist-packages/keras/optimizer_v2/adam.py:105: UserWarning: The `lr` argument is deprecated, use `learning_rate` instead.\n",
            "  super(Adam, self).__init__(name, **kwargs)\n"
          ]
        },
        {
          "output_type": "stream",
          "name": "stdout",
          "text": [
            "112/112 [==============================] - 0s 2ms/step - loss: 0.1349 - accuracy: 0.9715\n",
            "Learning rate =  0.01\n",
            "lambda =  1e-05\n",
            "Test accuracy: 0.972\n",
            "Test loss: 0.135\n",
            "[[3225   81]\n",
            " [  21  253]]\n"
          ]
        },
        {
          "output_type": "stream",
          "name": "stderr",
          "text": [
            "/usr/local/lib/python3.7/dist-packages/keras/optimizer_v2/adam.py:105: UserWarning: The `lr` argument is deprecated, use `learning_rate` instead.\n",
            "  super(Adam, self).__init__(name, **kwargs)\n"
          ]
        },
        {
          "output_type": "stream",
          "name": "stdout",
          "text": [
            "112/112 [==============================] - 0s 2ms/step - loss: 0.1117 - accuracy: 0.9779\n",
            "Learning rate =  0.01\n",
            "lambda =  1e-05\n",
            "Test accuracy: 0.978\n",
            "Test loss: 0.112\n",
            "[[3248   58]\n",
            " [  21  253]]\n"
          ]
        },
        {
          "output_type": "stream",
          "name": "stderr",
          "text": [
            "/usr/local/lib/python3.7/dist-packages/keras/optimizer_v2/adam.py:105: UserWarning: The `lr` argument is deprecated, use `learning_rate` instead.\n",
            "  super(Adam, self).__init__(name, **kwargs)\n"
          ]
        },
        {
          "output_type": "stream",
          "name": "stdout",
          "text": [
            "112/112 [==============================] - 0s 2ms/step - loss: 0.1315 - accuracy: 0.9788\n",
            "Learning rate =  0.01\n",
            "lambda =  1e-05\n",
            "Test accuracy: 0.979\n",
            "Test loss: 0.131\n",
            "[[3252   54]\n",
            " [  22  252]]\n"
          ]
        },
        {
          "output_type": "stream",
          "name": "stderr",
          "text": [
            "/usr/local/lib/python3.7/dist-packages/keras/optimizer_v2/adam.py:105: UserWarning: The `lr` argument is deprecated, use `learning_rate` instead.\n",
            "  super(Adam, self).__init__(name, **kwargs)\n"
          ]
        },
        {
          "output_type": "stream",
          "name": "stdout",
          "text": [
            "112/112 [==============================] - 0s 2ms/step - loss: 0.1625 - accuracy: 0.9662\n",
            "Learning rate =  0.01\n",
            "lambda =  1e-05\n",
            "Test accuracy: 0.966\n",
            "Test loss: 0.162\n",
            "[[3204  102]\n",
            " [  19  255]]\n"
          ]
        },
        {
          "output_type": "stream",
          "name": "stderr",
          "text": [
            "/usr/local/lib/python3.7/dist-packages/keras/optimizer_v2/adam.py:105: UserWarning: The `lr` argument is deprecated, use `learning_rate` instead.\n",
            "  super(Adam, self).__init__(name, **kwargs)\n"
          ]
        },
        {
          "output_type": "stream",
          "name": "stdout",
          "text": [
            "112/112 [==============================] - 0s 2ms/step - loss: 0.1690 - accuracy: 0.9564\n",
            "Learning rate =  0.01\n",
            "lambda =  1e-05\n",
            "Test accuracy: 0.956\n",
            "Test loss: 0.169\n",
            "[[3169  137]\n",
            " [  19  255]]\n"
          ]
        },
        {
          "output_type": "stream",
          "name": "stderr",
          "text": [
            "/usr/local/lib/python3.7/dist-packages/keras/optimizer_v2/adam.py:105: UserWarning: The `lr` argument is deprecated, use `learning_rate` instead.\n",
            "  super(Adam, self).__init__(name, **kwargs)\n"
          ]
        },
        {
          "output_type": "stream",
          "name": "stdout",
          "text": [
            "112/112 [==============================] - 0s 2ms/step - loss: 0.1574 - accuracy: 0.9609\n",
            "Learning rate =  0.01\n",
            "lambda =  1e-05\n",
            "Test accuracy: 0.961\n",
            "Test loss: 0.157\n",
            "[[3185  121]\n",
            " [  19  255]]\n"
          ]
        },
        {
          "output_type": "stream",
          "name": "stderr",
          "text": [
            "/usr/local/lib/python3.7/dist-packages/keras/optimizer_v2/adam.py:105: UserWarning: The `lr` argument is deprecated, use `learning_rate` instead.\n",
            "  super(Adam, self).__init__(name, **kwargs)\n"
          ]
        },
        {
          "output_type": "stream",
          "name": "stdout",
          "text": [
            "112/112 [==============================] - 0s 2ms/step - loss: 0.1200 - accuracy: 0.9746\n",
            "Learning rate =  0.01\n",
            "lambda =  1e-05\n",
            "Test accuracy: 0.975\n",
            "Test loss: 0.120\n",
            "[[3235   71]\n",
            " [  20  254]]\n"
          ]
        },
        {
          "output_type": "stream",
          "name": "stderr",
          "text": [
            "/usr/local/lib/python3.7/dist-packages/keras/optimizer_v2/adam.py:105: UserWarning: The `lr` argument is deprecated, use `learning_rate` instead.\n",
            "  super(Adam, self).__init__(name, **kwargs)\n"
          ]
        },
        {
          "output_type": "stream",
          "name": "stdout",
          "text": [
            "112/112 [==============================] - 0s 2ms/step - loss: 0.1510 - accuracy: 0.9645\n",
            "Learning rate =  0.01\n",
            "lambda =  1e-05\n",
            "Test accuracy: 0.965\n",
            "Test loss: 0.151\n",
            "[[3198  108]\n",
            " [  19  255]]\n"
          ]
        }
      ]
    },
    {
      "cell_type": "markdown",
      "source": [
        "# Bin\n"
      ],
      "metadata": {
        "id": "7kgsP02-EwI8"
      }
    },
    {
      "cell_type": "code",
      "execution_count": null,
      "metadata": {
        "id": "Hu389UFsdsHC",
        "colab": {
          "base_uri": "https://localhost:8080/"
        },
        "outputId": "56e6d4d1-05e3-4717-8a75-ba1b26b850ee"
      },
      "outputs": [
        {
          "output_type": "stream",
          "name": "stdout",
          "text": [
            "[[ 1.14931702  1.33483164 -0.66956953 ... -0.37062547 -0.07279778\n",
            "  -0.28743812]\n",
            " [-0.3341682   1.80226533 -0.01178476 ... -0.5889241   0.50442694\n",
            "   0.21158145]\n",
            " [-0.31437216 -1.05332222 -0.14523256 ... -0.23532816 -0.12599609\n",
            "  -0.39137346]\n",
            " ...\n",
            " [ 0.3218423   1.95621968 -0.2993338  ...  1.67156847 -1.28807874\n",
            "  -0.94133005]\n",
            " [ 0.13362759  1.07450972 -0.26005007 ... -0.66485697  0.37825656\n",
            "   0.27584987]\n",
            " [-2.10576204  5.73546965  0.87267394 ...  1.97154554 -2.19732744\n",
            "  -0.97105168]]\n"
          ]
        }
      ],
      "source": [
        "\n",
        "import pandas as pd\n",
        "\n",
        "df = pd.DataFrame(data[1:],columns=features).astype(float)\n",
        "#print(df)\n",
        "inp=df.loc[:,' Mean of the integrated profile':' Skewness of the DM-SNR curve' ]\n",
        "out=df.loc[:,features[-1]]\n",
        "#print(out)\n",
        "#print(in2)\n",
        "from sklearn.model_selection import train_test_split\n",
        "from tensorflow.keras.utils import to_categorical\n",
        "train_size=0.75\n",
        "test_size=1-train_size\n",
        "out=to_categorical(out)\n",
        "from sklearn.preprocessing import StandardScaler\n",
        "scaler = StandardScaler()\n",
        "inp = scaler.fit_transform(inp)\n",
        "X_train, X_test, Y_train, Y_test = train_test_split(inp, out, train_size=train_size, test_size=test_size)\n",
        "print(inp)"
      ]
    }
  ],
  "metadata": {
    "colab": {
      "collapsed_sections": [],
      "name": "Machine Learning Project 2.ipynb",
      "provenance": []
    },
    "kernelspec": {
      "display_name": "Python 3",
      "name": "python3"
    },
    "language_info": {
      "name": "python"
    }
  },
  "nbformat": 4,
  "nbformat_minor": 0
}