{
  "cells": [
    {
      "cell_type": "code",
      "execution_count": 4,
      "metadata": {
        "colab": {
          "base_uri": "https://localhost:8080/"
        },
        "id": "ayqazmybNwDt",
        "outputId": "5c26b0c7-172a-4889-f886-598b27ab448e"
      },
      "outputs": [
        {
          "output_type": "stream",
          "name": "stdout",
          "text": [
            "[' Mean of the integrated profile', ' Standard deviation of the integrated profile', ' Excess kurtosis of the integrated profile', ' Skewness of the integrated profile', ' Mean of the DM-SNR curve', ' Standard deviation of the DM-SNR curve', ' Excess kurtosis of the DM-SNR curve', ' Skewness of the DM-SNR curve', 'target_class']\n"
          ]
        }
      ],
      "source": [
        "#Required packages\n",
        "import pandas as pd\n",
        "import numpy as np\n",
        "import matplotlib as plt\n",
        "import tensorflow as tf\n",
        "from sklearn.model_selection import train_test_split\n",
        "from tensorflow.keras.utils import to_categorical\n",
        "from sklearn.utils import class_weight\n",
        "from sklearn.preprocessing import StandardScaler\n",
        "cmd='pip install plot-keras-history==1.1.30'\n",
        "import os\n",
        "os.system(cmd)\n",
        "from plot_keras_history import show_history, plot_history\n",
        "\n",
        "#fixed seed\n",
        "np.random.seed(0)\n",
        "\n",
        "#pre-processing of the data\n",
        "\n",
        "pulsarfile= open('/content/data.txt','r')\n",
        "pulsardata = pulsarfile.read()\n",
        "data=pulsardata.splitlines()\n",
        "features=data[0].split(',')\n",
        "\n",
        "\n",
        "for i in range(len(data)):\n",
        "  \n",
        "  data[i]=data[i].split(',')\n",
        "\n",
        "  if i>=1:\n",
        "\n",
        "    for j in range(len(data[i])):\n",
        "\n",
        "      data[i][j]=float(data[i][j])\n",
        "\n",
        "df = pd.DataFrame(data[1:],columns=features).astype(float)\n",
        "modifiedfeatures=[' Mean of the integrated profile', ' Standard deviation of the integrated profile', ' Excess kurtosis of the integrated profile', ' Mean of the DM-SNR curve', ' Standard deviation of the DM-SNR curve', ' Excess kurtosis of the DM-SNR curve']\n",
        "inp=df.loc[:,modifiedfeatures]\n",
        "out=df.loc[:,features[-1]]\n"
      ]
    },
    {
      "cell_type": "code",
      "source": [
        "#splitting of the data set into a test set and a training set\n",
        "train_size=0.8\n",
        "test_size=1-train_size\n",
        "X_train, X_test, Y_train, Y_test = train_test_split(inp, out, train_size=train_size, test_size=test_size)\n",
        "\n",
        "\n",
        "#handling of unbalanced data \n",
        "Y=np.unique(Y_train)\n",
        "class_weights = class_weight.compute_class_weight(class_weight='balanced', classes=Y , y=Y_train)\n",
        "class_weights = dict(enumerate(class_weights)),\n",
        "print(class_weights)\n",
        "\n",
        "#OneHot encoded vector\n",
        "Y_train=to_categorical(Y_train, num_classes=2)\n",
        "Y_test=to_categorical(Y_test, num_classes=2)\n",
        "\n",
        "#scaling of the data\n",
        "sc=StandardScaler()\n",
        "scaler = sc.fit(X_train)\n",
        "trainX_scaled = scaler.transform(X_train)\n",
        "testX_scaled = scaler.transform(X_test)\n",
        "\n",
        "print(class_weights[0])\n",
        "print(len(Y_train))"
      ],
      "metadata": {
        "colab": {
          "base_uri": "https://localhost:8080/"
        },
        "id": "MEOnh8qODzP6",
        "outputId": "2d3c291e-c381-4c1f-d856-5b5f7de38757"
      },
      "execution_count": 5,
      "outputs": [
        {
          "output_type": "stream",
          "name": "stdout",
          "text": [
            "({0: 0.552690496410098, 1: 5.244688644688645},)\n",
            "{0: 0.552690496410098, 1: 5.244688644688645}\n",
            "14318\n"
          ]
        }
      ]
    },
    {
      "cell_type": "markdown",
      "metadata": {
        "id": "8tI4M3kkWvby"
      },
      "source": [
        "# Nouvelle section"
      ]
    },
    {
      "cell_type": "code",
      "execution_count": null,
      "metadata": {
        "id": "GIx0ZY37h8Pi"
      },
      "outputs": [],
      "source": [
        "from tensorflow.keras.layers import Input\n",
        "from tensorflow.keras.models import Sequential     \n",
        "from tensorflow.keras.layers import Dense, Dropout          \n",
        "from tensorflow.keras import optimizers             \n",
        "from tensorflow.keras import regularizers           \n",
        "# creation of the FFNN \n",
        "neurons_layer1 = 60\n",
        "neurons_layer2= 60\n",
        "#neurons_layer3 = 22\n",
        "#neurons_layer4 = 2\n",
        "n_categories = 2\n",
        "epochs = 30\n",
        "batch_size = 40 \n",
        "eta_values = np.logspace(-6,1, 7)\n",
        "lmbd_values = np.logspace(-6, 1, 7)\n",
        "def neural_network(neurons_layer1, neurons_layer2 , n_categories, eta, lmbd):\n",
        "    model = Sequential()\n",
        "    model.add(Dense(neurons_layer1, activation='sigmoid', kernel_regularizer=regularizers.l2(lmbd)))\n",
        "    #trial : model.add(Dropout(0.8))\n",
        "    model.add(Dense(neurons_layer2, activation='sigmoid', kernel_regularizer=regularizers.l2(lmbd)))\n",
        "    model.add(Dense(n_categories, activation='sigmoid'))\n",
        "    sgd = optimizers.Adam(lr=eta)\n",
        "    model.compile(loss='binary_crossentropy', optimizer=sgd, metrics=['accuracy'])\n",
        "   \n",
        "    return model\n"
      ]
    },
    {
      "cell_type": "code",
      "execution_count": null,
      "metadata": {
        "colab": {
          "base_uri": "https://localhost:8080/"
        },
        "id": "Mda5n6Rji-gK",
        "outputId": "4e8238fa-3ca8-46fd-a387-18ff82e51acd"
      },
      "outputs": [
        {
          "output_type": "stream",
          "name": "stderr",
          "text": [
            "/usr/local/lib/python3.7/dist-packages/keras/optimizer_v2/adam.py:105: UserWarning: The `lr` argument is deprecated, use `learning_rate` instead.\n",
            "  super(Adam, self).__init__(name, **kwargs)\n"
          ]
        },
        {
          "output_type": "stream",
          "name": "stdout",
          "text": [
            "112/112 [==============================] - 0s 2ms/step - loss: 0.7589 - accuracy: 0.0765\n",
            "Learning rate =  1e-06\n",
            "lambda =  1e-06\n",
            "Test accuracy: 0.077\n",
            "Test loss: 0.759\n",
            "[[   0 3306]\n",
            " [   0  274]]\n",
            "\n"
          ]
        },
        {
          "output_type": "stream",
          "name": "stderr",
          "text": [
            "/usr/local/lib/python3.7/dist-packages/keras/optimizer_v2/adam.py:105: UserWarning: The `lr` argument is deprecated, use `learning_rate` instead.\n",
            "  super(Adam, self).__init__(name, **kwargs)\n"
          ]
        },
        {
          "output_type": "stream",
          "name": "stdout",
          "text": [
            "112/112 [==============================] - 0s 1ms/step - loss: 0.6378 - accuracy: 0.9235\n",
            "Learning rate =  1e-06\n",
            "lambda =  1.4677992676220705e-05\n",
            "Test accuracy: 0.923\n",
            "Test loss: 0.638\n",
            "[[3306    0]\n",
            " [ 274    0]]\n",
            "\n"
          ]
        },
        {
          "output_type": "stream",
          "name": "stderr",
          "text": [
            "/usr/local/lib/python3.7/dist-packages/keras/optimizer_v2/adam.py:105: UserWarning: The `lr` argument is deprecated, use `learning_rate` instead.\n",
            "  super(Adam, self).__init__(name, **kwargs)\n"
          ]
        },
        {
          "output_type": "stream",
          "name": "stdout",
          "text": [
            "112/112 [==============================] - 0s 1ms/step - loss: 0.6730 - accuracy: 0.9514\n",
            "Learning rate =  1e-06\n",
            "lambda =  0.00021544346900318845\n",
            "Test accuracy: 0.951\n",
            "Test loss: 0.673\n",
            "[[3232   74]\n",
            " [ 100  174]]\n",
            "\n"
          ]
        },
        {
          "output_type": "stream",
          "name": "stderr",
          "text": [
            "/usr/local/lib/python3.7/dist-packages/keras/optimizer_v2/adam.py:105: UserWarning: The `lr` argument is deprecated, use `learning_rate` instead.\n",
            "  super(Adam, self).__init__(name, **kwargs)\n"
          ]
        },
        {
          "output_type": "stream",
          "name": "stdout",
          "text": [
            "112/112 [==============================] - 0s 1ms/step - loss: 1.0581 - accuracy: 0.0765\n",
            "Learning rate =  1e-06\n",
            "lambda =  0.0031622776601683794\n",
            "Test accuracy: 0.077\n",
            "Test loss: 1.058\n",
            "[[   0 3306]\n",
            " [   0  274]]\n",
            "\n"
          ]
        },
        {
          "output_type": "stream",
          "name": "stderr",
          "text": [
            "/usr/local/lib/python3.7/dist-packages/keras/optimizer_v2/adam.py:105: UserWarning: The `lr` argument is deprecated, use `learning_rate` instead.\n",
            "  super(Adam, self).__init__(name, **kwargs)\n"
          ]
        },
        {
          "output_type": "stream",
          "name": "stdout",
          "text": [
            "112/112 [==============================] - 0s 2ms/step - loss: 3.5075 - accuracy: 0.9235\n",
            "Learning rate =  1e-06\n",
            "lambda =  0.04641588833612782\n",
            "Test accuracy: 0.923\n",
            "Test loss: 3.508\n",
            "[[3306    0]\n",
            " [ 274    0]]\n",
            "\n"
          ]
        },
        {
          "output_type": "stream",
          "name": "stderr",
          "text": [
            "/usr/local/lib/python3.7/dist-packages/keras/optimizer_v2/adam.py:105: UserWarning: The `lr` argument is deprecated, use `learning_rate` instead.\n",
            "  super(Adam, self).__init__(name, **kwargs)\n"
          ]
        },
        {
          "output_type": "stream",
          "name": "stdout",
          "text": [
            "112/112 [==============================] - 0s 1ms/step - loss: 43.9399 - accuracy: 0.0765\n",
            "Learning rate =  1e-06\n",
            "lambda =  0.6812920690579622\n",
            "Test accuracy: 0.077\n",
            "Test loss: 43.940\n",
            "[[   0 3306]\n",
            " [   0  274]]\n",
            "\n"
          ]
        },
        {
          "output_type": "stream",
          "name": "stderr",
          "text": [
            "/usr/local/lib/python3.7/dist-packages/keras/optimizer_v2/adam.py:105: UserWarning: The `lr` argument is deprecated, use `learning_rate` instead.\n",
            "  super(Adam, self).__init__(name, **kwargs)\n"
          ]
        },
        {
          "output_type": "stream",
          "name": "stdout",
          "text": [
            "112/112 [==============================] - 0s 1ms/step - loss: 617.6113 - accuracy: 0.0765\n",
            "Learning rate =  1e-06\n",
            "lambda =  10.0\n",
            "Test accuracy: 0.077\n",
            "Test loss: 617.611\n",
            "[[   0 3306]\n",
            " [   0  274]]\n",
            "\n"
          ]
        },
        {
          "output_type": "stream",
          "name": "stderr",
          "text": [
            "/usr/local/lib/python3.7/dist-packages/keras/optimizer_v2/adam.py:105: UserWarning: The `lr` argument is deprecated, use `learning_rate` instead.\n",
            "  super(Adam, self).__init__(name, **kwargs)\n"
          ]
        },
        {
          "output_type": "stream",
          "name": "stdout",
          "text": [
            "112/112 [==============================] - 0s 1ms/step - loss: 0.2711 - accuracy: 0.9402\n",
            "Learning rate =  1.4677992676220705e-05\n",
            "lambda =  1e-06\n",
            "Test accuracy: 0.940\n",
            "Test loss: 0.271\n",
            "[[3123  183]\n",
            " [  31  243]]\n",
            "\n"
          ]
        },
        {
          "output_type": "stream",
          "name": "stderr",
          "text": [
            "/usr/local/lib/python3.7/dist-packages/keras/optimizer_v2/adam.py:105: UserWarning: The `lr` argument is deprecated, use `learning_rate` instead.\n",
            "  super(Adam, self).__init__(name, **kwargs)\n"
          ]
        },
        {
          "output_type": "stream",
          "name": "stdout",
          "text": [
            "112/112 [==============================] - 0s 2ms/step - loss: 0.2683 - accuracy: 0.9369\n",
            "Learning rate =  1.4677992676220705e-05\n",
            "lambda =  1.4677992676220705e-05\n",
            "Test accuracy: 0.937\n",
            "Test loss: 0.268\n",
            "[[3111  195]\n",
            " [  31  243]]\n",
            "\n"
          ]
        },
        {
          "output_type": "stream",
          "name": "stderr",
          "text": [
            "/usr/local/lib/python3.7/dist-packages/keras/optimizer_v2/adam.py:105: UserWarning: The `lr` argument is deprecated, use `learning_rate` instead.\n",
            "  super(Adam, self).__init__(name, **kwargs)\n"
          ]
        },
        {
          "output_type": "stream",
          "name": "stdout",
          "text": [
            "112/112 [==============================] - 0s 1ms/step - loss: 0.2986 - accuracy: 0.9422\n",
            "Learning rate =  1.4677992676220705e-05\n",
            "lambda =  0.00021544346900318845\n",
            "Test accuracy: 0.942\n",
            "Test loss: 0.299\n",
            "[[3129  177]\n",
            " [  30  244]]\n",
            "\n"
          ]
        },
        {
          "output_type": "stream",
          "name": "stderr",
          "text": [
            "/usr/local/lib/python3.7/dist-packages/keras/optimizer_v2/adam.py:105: UserWarning: The `lr` argument is deprecated, use `learning_rate` instead.\n",
            "  super(Adam, self).__init__(name, **kwargs)\n"
          ]
        },
        {
          "output_type": "stream",
          "name": "stdout",
          "text": [
            "112/112 [==============================] - 0s 1ms/step - loss: 0.4834 - accuracy: 0.9455\n",
            "Learning rate =  1.4677992676220705e-05\n",
            "lambda =  0.0031622776601683794\n",
            "Test accuracy: 0.946\n",
            "Test loss: 0.483\n",
            "[[3145  161]\n",
            " [  34  240]]\n",
            "\n"
          ]
        },
        {
          "output_type": "stream",
          "name": "stderr",
          "text": [
            "/usr/local/lib/python3.7/dist-packages/keras/optimizer_v2/adam.py:105: UserWarning: The `lr` argument is deprecated, use `learning_rate` instead.\n",
            "  super(Adam, self).__init__(name, **kwargs)\n"
          ]
        },
        {
          "output_type": "stream",
          "name": "stdout",
          "text": [
            "112/112 [==============================] - 0s 1ms/step - loss: 0.9055 - accuracy: 0.9617\n",
            "Learning rate =  1.4677992676220705e-05\n",
            "lambda =  0.04641588833612782\n",
            "Test accuracy: 0.962\n",
            "Test loss: 0.906\n",
            "[[3252   54]\n",
            " [  83  191]]\n",
            "\n"
          ]
        },
        {
          "output_type": "stream",
          "name": "stderr",
          "text": [
            "/usr/local/lib/python3.7/dist-packages/keras/optimizer_v2/adam.py:105: UserWarning: The `lr` argument is deprecated, use `learning_rate` instead.\n",
            "  super(Adam, self).__init__(name, **kwargs)\n"
          ]
        },
        {
          "output_type": "stream",
          "name": "stdout",
          "text": [
            "112/112 [==============================] - 0s 1ms/step - loss: 3.6890 - accuracy: 0.9282\n",
            "Learning rate =  1.4677992676220705e-05\n",
            "lambda =  0.6812920690579622\n",
            "Test accuracy: 0.928\n",
            "Test loss: 3.689\n",
            "[[3306    0]\n",
            " [ 257   17]]\n",
            "\n"
          ]
        },
        {
          "output_type": "stream",
          "name": "stderr",
          "text": [
            "/usr/local/lib/python3.7/dist-packages/keras/optimizer_v2/adam.py:105: UserWarning: The `lr` argument is deprecated, use `learning_rate` instead.\n",
            "  super(Adam, self).__init__(name, **kwargs)\n"
          ]
        },
        {
          "output_type": "stream",
          "name": "stdout",
          "text": [
            "112/112 [==============================] - 0s 1ms/step - loss: 46.2808 - accuracy: 0.9235\n",
            "Learning rate =  1.4677992676220705e-05\n",
            "lambda =  10.0\n",
            "Test accuracy: 0.923\n",
            "Test loss: 46.281\n",
            "[[3306    0]\n",
            " [ 274    0]]\n",
            "\n"
          ]
        },
        {
          "output_type": "stream",
          "name": "stderr",
          "text": [
            "/usr/local/lib/python3.7/dist-packages/keras/optimizer_v2/adam.py:105: UserWarning: The `lr` argument is deprecated, use `learning_rate` instead.\n",
            "  super(Adam, self).__init__(name, **kwargs)\n"
          ]
        },
        {
          "output_type": "stream",
          "name": "stdout",
          "text": [
            "112/112 [==============================] - 0s 1ms/step - loss: 0.1345 - accuracy: 0.9709\n",
            "Learning rate =  0.00021544346900318845\n",
            "lambda =  1e-06\n",
            "Test accuracy: 0.971\n",
            "Test loss: 0.134\n",
            "[[3224   82]\n",
            " [  22  252]]\n",
            "\n"
          ]
        },
        {
          "output_type": "stream",
          "name": "stderr",
          "text": [
            "/usr/local/lib/python3.7/dist-packages/keras/optimizer_v2/adam.py:105: UserWarning: The `lr` argument is deprecated, use `learning_rate` instead.\n",
            "  super(Adam, self).__init__(name, **kwargs)\n"
          ]
        },
        {
          "output_type": "stream",
          "name": "stdout",
          "text": [
            "112/112 [==============================] - 0s 2ms/step - loss: 0.1305 - accuracy: 0.9729\n",
            "Learning rate =  0.00021544346900318845\n",
            "lambda =  1.4677992676220705e-05\n",
            "Test accuracy: 0.973\n",
            "Test loss: 0.131\n",
            "[[3231   75]\n",
            " [  22  252]]\n",
            "\n"
          ]
        },
        {
          "output_type": "stream",
          "name": "stderr",
          "text": [
            "/usr/local/lib/python3.7/dist-packages/keras/optimizer_v2/adam.py:105: UserWarning: The `lr` argument is deprecated, use `learning_rate` instead.\n",
            "  super(Adam, self).__init__(name, **kwargs)\n"
          ]
        },
        {
          "output_type": "stream",
          "name": "stdout",
          "text": [
            "112/112 [==============================] - 0s 1ms/step - loss: 0.1587 - accuracy: 0.9709\n",
            "Learning rate =  0.00021544346900318845\n",
            "lambda =  0.00021544346900318845\n",
            "Test accuracy: 0.971\n",
            "Test loss: 0.159\n",
            "[[3224   82]\n",
            " [  22  252]]\n",
            "\n"
          ]
        },
        {
          "output_type": "stream",
          "name": "stderr",
          "text": [
            "/usr/local/lib/python3.7/dist-packages/keras/optimizer_v2/adam.py:105: UserWarning: The `lr` argument is deprecated, use `learning_rate` instead.\n",
            "  super(Adam, self).__init__(name, **kwargs)\n"
          ]
        },
        {
          "output_type": "stream",
          "name": "stdout",
          "text": [
            "112/112 [==============================] - 0s 1ms/step - loss: 0.2341 - accuracy: 0.9668\n",
            "Learning rate =  0.00021544346900318845\n",
            "lambda =  0.0031622776601683794\n",
            "Test accuracy: 0.967\n",
            "Test loss: 0.234\n",
            "[[3210   96]\n",
            " [  23  251]]\n",
            "\n"
          ]
        },
        {
          "output_type": "stream",
          "name": "stderr",
          "text": [
            "/usr/local/lib/python3.7/dist-packages/keras/optimizer_v2/adam.py:105: UserWarning: The `lr` argument is deprecated, use `learning_rate` instead.\n",
            "  super(Adam, self).__init__(name, **kwargs)\n"
          ]
        },
        {
          "output_type": "stream",
          "name": "stdout",
          "text": [
            "112/112 [==============================] - 0s 1ms/step - loss: 0.7164 - accuracy: 0.0765\n",
            "Learning rate =  0.00021544346900318845\n",
            "lambda =  0.04641588833612782\n",
            "Test accuracy: 0.077\n",
            "Test loss: 0.716\n",
            "[[   0 3306]\n",
            " [   0  274]]\n",
            "\n"
          ]
        },
        {
          "output_type": "stream",
          "name": "stderr",
          "text": [
            "/usr/local/lib/python3.7/dist-packages/keras/optimizer_v2/adam.py:105: UserWarning: The `lr` argument is deprecated, use `learning_rate` instead.\n",
            "  super(Adam, self).__init__(name, **kwargs)\n"
          ]
        },
        {
          "output_type": "stream",
          "name": "stdout",
          "text": [
            "112/112 [==============================] - 0s 1ms/step - loss: 0.6931 - accuracy: 0.9235\n",
            "Learning rate =  0.00021544346900318845\n",
            "lambda =  0.6812920690579622\n",
            "Test accuracy: 0.923\n",
            "Test loss: 0.693\n",
            "[[3306    0]\n",
            " [ 274    0]]\n",
            "\n"
          ]
        },
        {
          "output_type": "stream",
          "name": "stderr",
          "text": [
            "/usr/local/lib/python3.7/dist-packages/keras/optimizer_v2/adam.py:105: UserWarning: The `lr` argument is deprecated, use `learning_rate` instead.\n",
            "  super(Adam, self).__init__(name, **kwargs)\n"
          ]
        },
        {
          "output_type": "stream",
          "name": "stdout",
          "text": [
            "112/112 [==============================] - 0s 1ms/step - loss: 0.6965 - accuracy: 0.0765\n",
            "Learning rate =  0.00021544346900318845\n",
            "lambda =  10.0\n",
            "Test accuracy: 0.077\n",
            "Test loss: 0.697\n",
            "[[   0 3306]\n",
            " [   0  274]]\n",
            "\n"
          ]
        },
        {
          "output_type": "stream",
          "name": "stderr",
          "text": [
            "/usr/local/lib/python3.7/dist-packages/keras/optimizer_v2/adam.py:105: UserWarning: The `lr` argument is deprecated, use `learning_rate` instead.\n",
            "  super(Adam, self).__init__(name, **kwargs)\n"
          ]
        },
        {
          "output_type": "stream",
          "name": "stdout",
          "text": [
            "112/112 [==============================] - 0s 1ms/step - loss: 0.1525 - accuracy: 0.9603\n",
            "Learning rate =  0.0031622776601683794\n",
            "lambda =  1e-06\n",
            "Test accuracy: 0.960\n",
            "Test loss: 0.152\n",
            "[[3183  123]\n",
            " [  19  255]]\n",
            "\n"
          ]
        },
        {
          "output_type": "stream",
          "name": "stderr",
          "text": [
            "/usr/local/lib/python3.7/dist-packages/keras/optimizer_v2/adam.py:105: UserWarning: The `lr` argument is deprecated, use `learning_rate` instead.\n",
            "  super(Adam, self).__init__(name, **kwargs)\n"
          ]
        },
        {
          "output_type": "stream",
          "name": "stdout",
          "text": [
            "112/112 [==============================] - 0s 1ms/step - loss: 0.1266 - accuracy: 0.9712\n",
            "Learning rate =  0.0031622776601683794\n",
            "lambda =  1.4677992676220705e-05\n",
            "Test accuracy: 0.971\n",
            "Test loss: 0.127\n",
            "[[3223   83]\n",
            " [  20  254]]\n",
            "\n"
          ]
        },
        {
          "output_type": "stream",
          "name": "stderr",
          "text": [
            "/usr/local/lib/python3.7/dist-packages/keras/optimizer_v2/adam.py:105: UserWarning: The `lr` argument is deprecated, use `learning_rate` instead.\n",
            "  super(Adam, self).__init__(name, **kwargs)\n"
          ]
        },
        {
          "output_type": "stream",
          "name": "stdout",
          "text": [
            "112/112 [==============================] - 0s 1ms/step - loss: 0.1285 - accuracy: 0.9771\n",
            "Learning rate =  0.0031622776601683794\n",
            "lambda =  0.00021544346900318845\n",
            "Test accuracy: 0.977\n",
            "Test loss: 0.129\n",
            "[[3248   58]\n",
            " [  24  250]]\n",
            "\n"
          ]
        },
        {
          "output_type": "stream",
          "name": "stderr",
          "text": [
            "/usr/local/lib/python3.7/dist-packages/keras/optimizer_v2/adam.py:105: UserWarning: The `lr` argument is deprecated, use `learning_rate` instead.\n",
            "  super(Adam, self).__init__(name, **kwargs)\n"
          ]
        },
        {
          "output_type": "stream",
          "name": "stdout",
          "text": [
            "112/112 [==============================] - 0s 1ms/step - loss: 0.1272 - accuracy: 0.9813\n",
            "Learning rate =  0.0031622776601683794\n",
            "lambda =  0.0031622776601683794\n",
            "Test accuracy: 0.981\n",
            "Test loss: 0.127\n",
            "[[3277   29]\n",
            " [  38  236]]\n",
            "\n"
          ]
        },
        {
          "output_type": "stream",
          "name": "stderr",
          "text": [
            "/usr/local/lib/python3.7/dist-packages/keras/optimizer_v2/adam.py:105: UserWarning: The `lr` argument is deprecated, use `learning_rate` instead.\n",
            "  super(Adam, self).__init__(name, **kwargs)\n"
          ]
        },
        {
          "output_type": "stream",
          "name": "stdout",
          "text": [
            "112/112 [==============================] - 0s 1ms/step - loss: 0.6366 - accuracy: 0.9235\n",
            "Learning rate =  0.0031622776601683794\n",
            "lambda =  0.04641588833612782\n",
            "Test accuracy: 0.923\n",
            "Test loss: 0.637\n",
            "[[3306    0]\n",
            " [ 274    0]]\n",
            "\n"
          ]
        },
        {
          "output_type": "stream",
          "name": "stderr",
          "text": [
            "/usr/local/lib/python3.7/dist-packages/keras/optimizer_v2/adam.py:105: UserWarning: The `lr` argument is deprecated, use `learning_rate` instead.\n",
            "  super(Adam, self).__init__(name, **kwargs)\n"
          ]
        },
        {
          "output_type": "stream",
          "name": "stdout",
          "text": [
            "112/112 [==============================] - 0s 1ms/step - loss: 0.7279 - accuracy: 0.0765\n",
            "Learning rate =  0.0031622776601683794\n",
            "lambda =  0.6812920690579622\n",
            "Test accuracy: 0.077\n",
            "Test loss: 0.728\n",
            "[[   0 3306]\n",
            " [   0  274]]\n",
            "\n"
          ]
        },
        {
          "output_type": "stream",
          "name": "stderr",
          "text": [
            "/usr/local/lib/python3.7/dist-packages/keras/optimizer_v2/adam.py:105: UserWarning: The `lr` argument is deprecated, use `learning_rate` instead.\n",
            "  super(Adam, self).__init__(name, **kwargs)\n"
          ]
        },
        {
          "output_type": "stream",
          "name": "stdout",
          "text": [
            "112/112 [==============================] - 0s 1ms/step - loss: 0.7072 - accuracy: 0.0765\n",
            "Learning rate =  0.0031622776601683794\n",
            "lambda =  10.0\n",
            "Test accuracy: 0.077\n",
            "Test loss: 0.707\n",
            "[[   0 3306]\n",
            " [   0  274]]\n",
            "\n"
          ]
        },
        {
          "output_type": "stream",
          "name": "stderr",
          "text": [
            "/usr/local/lib/python3.7/dist-packages/keras/optimizer_v2/adam.py:105: UserWarning: The `lr` argument is deprecated, use `learning_rate` instead.\n",
            "  super(Adam, self).__init__(name, **kwargs)\n"
          ]
        },
        {
          "output_type": "stream",
          "name": "stdout",
          "text": [
            "112/112 [==============================] - 0s 1ms/step - loss: 0.2868 - accuracy: 0.9405\n",
            "Learning rate =  0.04641588833612782\n",
            "lambda =  1e-06\n",
            "Test accuracy: 0.941\n",
            "Test loss: 0.287\n",
            "[[3111  195]\n",
            " [  18  256]]\n",
            "\n"
          ]
        },
        {
          "output_type": "stream",
          "name": "stderr",
          "text": [
            "/usr/local/lib/python3.7/dist-packages/keras/optimizer_v2/adam.py:105: UserWarning: The `lr` argument is deprecated, use `learning_rate` instead.\n",
            "  super(Adam, self).__init__(name, **kwargs)\n"
          ]
        },
        {
          "output_type": "stream",
          "name": "stdout",
          "text": [
            "112/112 [==============================] - 0s 1ms/step - loss: 0.1357 - accuracy: 0.9698\n",
            "Learning rate =  0.04641588833612782\n",
            "lambda =  1.4677992676220705e-05\n",
            "Test accuracy: 0.970\n",
            "Test loss: 0.136\n",
            "[[3218   88]\n",
            " [  20  254]]\n",
            "\n"
          ]
        },
        {
          "output_type": "stream",
          "name": "stderr",
          "text": [
            "/usr/local/lib/python3.7/dist-packages/keras/optimizer_v2/adam.py:105: UserWarning: The `lr` argument is deprecated, use `learning_rate` instead.\n",
            "  super(Adam, self).__init__(name, **kwargs)\n"
          ]
        },
        {
          "output_type": "stream",
          "name": "stdout",
          "text": [
            "112/112 [==============================] - 0s 1ms/step - loss: 0.1835 - accuracy: 0.9503\n",
            "Learning rate =  0.04641588833612782\n",
            "lambda =  0.00021544346900318845\n",
            "Test accuracy: 0.950\n",
            "Test loss: 0.183\n",
            "[[3148  158]\n",
            " [  20  254]]\n",
            "\n"
          ]
        },
        {
          "output_type": "stream",
          "name": "stderr",
          "text": [
            "/usr/local/lib/python3.7/dist-packages/keras/optimizer_v2/adam.py:105: UserWarning: The `lr` argument is deprecated, use `learning_rate` instead.\n",
            "  super(Adam, self).__init__(name, **kwargs)\n"
          ]
        },
        {
          "output_type": "stream",
          "name": "stdout",
          "text": [
            "112/112 [==============================] - 0s 1ms/step - loss: 0.1735 - accuracy: 0.9679\n",
            "Learning rate =  0.04641588833612782\n",
            "lambda =  0.0031622776601683794\n",
            "Test accuracy: 0.968\n",
            "Test loss: 0.173\n",
            "[[3213   93]\n",
            " [  22  252]]\n",
            "\n"
          ]
        },
        {
          "output_type": "stream",
          "name": "stderr",
          "text": [
            "/usr/local/lib/python3.7/dist-packages/keras/optimizer_v2/adam.py:105: UserWarning: The `lr` argument is deprecated, use `learning_rate` instead.\n",
            "  super(Adam, self).__init__(name, **kwargs)\n"
          ]
        },
        {
          "output_type": "stream",
          "name": "stdout",
          "text": [
            "112/112 [==============================] - 0s 1ms/step - loss: 0.6696 - accuracy: 0.9235\n",
            "Learning rate =  0.04641588833612782\n",
            "lambda =  0.04641588833612782\n",
            "Test accuracy: 0.923\n",
            "Test loss: 0.670\n",
            "[[3306    0]\n",
            " [ 274    0]]\n",
            "\n"
          ]
        },
        {
          "output_type": "stream",
          "name": "stderr",
          "text": [
            "/usr/local/lib/python3.7/dist-packages/keras/optimizer_v2/adam.py:105: UserWarning: The `lr` argument is deprecated, use `learning_rate` instead.\n",
            "  super(Adam, self).__init__(name, **kwargs)\n"
          ]
        },
        {
          "output_type": "stream",
          "name": "stdout",
          "text": [
            "112/112 [==============================] - 0s 2ms/step - loss: 0.6274 - accuracy: 0.9235\n",
            "Learning rate =  0.04641588833612782\n",
            "lambda =  0.6812920690579622\n",
            "Test accuracy: 0.923\n",
            "Test loss: 0.627\n",
            "[[3306    0]\n",
            " [ 274    0]]\n",
            "\n"
          ]
        },
        {
          "output_type": "stream",
          "name": "stderr",
          "text": [
            "/usr/local/lib/python3.7/dist-packages/keras/optimizer_v2/adam.py:105: UserWarning: The `lr` argument is deprecated, use `learning_rate` instead.\n",
            "  super(Adam, self).__init__(name, **kwargs)\n"
          ]
        },
        {
          "output_type": "stream",
          "name": "stdout",
          "text": [
            "112/112 [==============================] - 0s 1ms/step - loss: 0.7300 - accuracy: 0.0765\n",
            "Learning rate =  0.04641588833612782\n",
            "lambda =  10.0\n",
            "Test accuracy: 0.077\n",
            "Test loss: 0.730\n",
            "[[   0 3306]\n",
            " [   0  274]]\n",
            "\n"
          ]
        },
        {
          "output_type": "stream",
          "name": "stderr",
          "text": [
            "/usr/local/lib/python3.7/dist-packages/keras/optimizer_v2/adam.py:105: UserWarning: The `lr` argument is deprecated, use `learning_rate` instead.\n",
            "  super(Adam, self).__init__(name, **kwargs)\n"
          ]
        },
        {
          "output_type": "stream",
          "name": "stdout",
          "text": [
            "112/112 [==============================] - 0s 2ms/step - loss: 1.7964 - accuracy: 0.0765\n",
            "Learning rate =  0.6812920690579622\n",
            "lambda =  1e-06\n",
            "Test accuracy: 0.077\n",
            "Test loss: 1.796\n",
            "[[   0 3306]\n",
            " [   0  274]]\n",
            "\n"
          ]
        },
        {
          "output_type": "stream",
          "name": "stderr",
          "text": [
            "/usr/local/lib/python3.7/dist-packages/keras/optimizer_v2/adam.py:105: UserWarning: The `lr` argument is deprecated, use `learning_rate` instead.\n",
            "  super(Adam, self).__init__(name, **kwargs)\n"
          ]
        },
        {
          "output_type": "stream",
          "name": "stdout",
          "text": [
            "112/112 [==============================] - 0s 1ms/step - loss: 0.3247 - accuracy: 0.9235\n",
            "Learning rate =  0.6812920690579622\n",
            "lambda =  1.4677992676220705e-05\n",
            "Test accuracy: 0.923\n",
            "Test loss: 0.325\n",
            "[[3306    0]\n",
            " [ 274    0]]\n",
            "\n"
          ]
        },
        {
          "output_type": "stream",
          "name": "stderr",
          "text": [
            "/usr/local/lib/python3.7/dist-packages/keras/optimizer_v2/adam.py:105: UserWarning: The `lr` argument is deprecated, use `learning_rate` instead.\n",
            "  super(Adam, self).__init__(name, **kwargs)\n"
          ]
        },
        {
          "output_type": "stream",
          "name": "stdout",
          "text": [
            "112/112 [==============================] - 0s 2ms/step - loss: 0.3187 - accuracy: 0.9235\n",
            "Learning rate =  0.6812920690579622\n",
            "lambda =  0.00021544346900318845\n",
            "Test accuracy: 0.923\n",
            "Test loss: 0.319\n",
            "[[3306    0]\n",
            " [ 274    0]]\n",
            "\n"
          ]
        },
        {
          "output_type": "stream",
          "name": "stderr",
          "text": [
            "/usr/local/lib/python3.7/dist-packages/keras/optimizer_v2/adam.py:105: UserWarning: The `lr` argument is deprecated, use `learning_rate` instead.\n",
            "  super(Adam, self).__init__(name, **kwargs)\n"
          ]
        },
        {
          "output_type": "stream",
          "name": "stdout",
          "text": [
            "112/112 [==============================] - 0s 1ms/step - loss: 0.6609 - accuracy: 0.9235\n",
            "Learning rate =  0.6812920690579622\n",
            "lambda =  0.0031622776601683794\n",
            "Test accuracy: 0.923\n",
            "Test loss: 0.661\n",
            "[[3306    0]\n",
            " [ 274    0]]\n",
            "\n"
          ]
        },
        {
          "output_type": "stream",
          "name": "stderr",
          "text": [
            "/usr/local/lib/python3.7/dist-packages/keras/optimizer_v2/adam.py:105: UserWarning: The `lr` argument is deprecated, use `learning_rate` instead.\n",
            "  super(Adam, self).__init__(name, **kwargs)\n"
          ]
        },
        {
          "output_type": "stream",
          "name": "stdout",
          "text": [
            "112/112 [==============================] - 0s 2ms/step - loss: 1.3201 - accuracy: 0.0765\n",
            "Learning rate =  0.6812920690579622\n",
            "lambda =  0.04641588833612782\n",
            "Test accuracy: 0.077\n",
            "Test loss: 1.320\n",
            "[[   0 3306]\n",
            " [   0  274]]\n",
            "\n"
          ]
        },
        {
          "output_type": "stream",
          "name": "stderr",
          "text": [
            "/usr/local/lib/python3.7/dist-packages/keras/optimizer_v2/adam.py:105: UserWarning: The `lr` argument is deprecated, use `learning_rate` instead.\n",
            "  super(Adam, self).__init__(name, **kwargs)\n"
          ]
        },
        {
          "output_type": "stream",
          "name": "stdout",
          "text": [
            "112/112 [==============================] - 0s 2ms/step - loss: 1.5874 - accuracy: 0.9235\n",
            "Learning rate =  0.6812920690579622\n",
            "lambda =  0.6812920690579622\n",
            "Test accuracy: 0.923\n",
            "Test loss: 1.587\n",
            "[[3306    0]\n",
            " [ 274    0]]\n",
            "\n"
          ]
        },
        {
          "output_type": "stream",
          "name": "stderr",
          "text": [
            "/usr/local/lib/python3.7/dist-packages/keras/optimizer_v2/adam.py:105: UserWarning: The `lr` argument is deprecated, use `learning_rate` instead.\n",
            "  super(Adam, self).__init__(name, **kwargs)\n"
          ]
        },
        {
          "output_type": "stream",
          "name": "stdout",
          "text": [
            "112/112 [==============================] - 0s 1ms/step - loss: 17.6976 - accuracy: 0.0765\n",
            "Learning rate =  0.6812920690579622\n",
            "lambda =  10.0\n",
            "Test accuracy: 0.077\n",
            "Test loss: 17.698\n",
            "[[   0 3306]\n",
            " [   0  274]]\n",
            "\n"
          ]
        },
        {
          "output_type": "stream",
          "name": "stderr",
          "text": [
            "/usr/local/lib/python3.7/dist-packages/keras/optimizer_v2/adam.py:105: UserWarning: The `lr` argument is deprecated, use `learning_rate` instead.\n",
            "  super(Adam, self).__init__(name, **kwargs)\n"
          ]
        },
        {
          "output_type": "stream",
          "name": "stdout",
          "text": [
            "112/112 [==============================] - 0s 1ms/step - loss: 3.8188 - accuracy: 0.9235\n",
            "Learning rate =  10.0\n",
            "lambda =  1e-06\n",
            "Test accuracy: 0.923\n",
            "Test loss: 3.819\n",
            "[[3306    0]\n",
            " [ 274    0]]\n",
            "\n"
          ]
        },
        {
          "output_type": "stream",
          "name": "stderr",
          "text": [
            "/usr/local/lib/python3.7/dist-packages/keras/optimizer_v2/adam.py:105: UserWarning: The `lr` argument is deprecated, use `learning_rate` instead.\n",
            "  super(Adam, self).__init__(name, **kwargs)\n"
          ]
        },
        {
          "output_type": "stream",
          "name": "stdout",
          "text": [
            "112/112 [==============================] - 0s 1ms/step - loss: 4.2504 - accuracy: 0.9235\n",
            "Learning rate =  10.0\n",
            "lambda =  1.4677992676220705e-05\n",
            "Test accuracy: 0.923\n",
            "Test loss: 4.250\n",
            "[[3306    0]\n",
            " [ 274    0]]\n",
            "\n"
          ]
        },
        {
          "output_type": "stream",
          "name": "stderr",
          "text": [
            "/usr/local/lib/python3.7/dist-packages/keras/optimizer_v2/adam.py:105: UserWarning: The `lr` argument is deprecated, use `learning_rate` instead.\n",
            "  super(Adam, self).__init__(name, **kwargs)\n"
          ]
        },
        {
          "output_type": "stream",
          "name": "stdout",
          "text": [
            "112/112 [==============================] - 0s 2ms/step - loss: 24.5968 - accuracy: 0.0765\n",
            "Learning rate =  10.0\n",
            "lambda =  0.00021544346900318845\n",
            "Test accuracy: 0.077\n",
            "Test loss: 24.597\n",
            "[[3306    0]\n",
            " [ 274    0]]\n",
            "\n"
          ]
        },
        {
          "output_type": "stream",
          "name": "stderr",
          "text": [
            "/usr/local/lib/python3.7/dist-packages/keras/optimizer_v2/adam.py:105: UserWarning: The `lr` argument is deprecated, use `learning_rate` instead.\n",
            "  super(Adam, self).__init__(name, **kwargs)\n"
          ]
        },
        {
          "output_type": "stream",
          "name": "stdout",
          "text": [
            "112/112 [==============================] - 0s 1ms/step - loss: 3.5846 - accuracy: 0.9235\n",
            "Learning rate =  10.0\n",
            "lambda =  0.0031622776601683794\n",
            "Test accuracy: 0.923\n",
            "Test loss: 3.585\n",
            "[[3306    0]\n",
            " [ 274    0]]\n",
            "\n"
          ]
        },
        {
          "output_type": "stream",
          "name": "stderr",
          "text": [
            "/usr/local/lib/python3.7/dist-packages/keras/optimizer_v2/adam.py:105: UserWarning: The `lr` argument is deprecated, use `learning_rate` instead.\n",
            "  super(Adam, self).__init__(name, **kwargs)\n"
          ]
        },
        {
          "output_type": "stream",
          "name": "stdout",
          "text": [
            "112/112 [==============================] - 0s 1ms/step - loss: 11.3105 - accuracy: 0.9235\n",
            "Learning rate =  10.0\n",
            "lambda =  0.04641588833612782\n",
            "Test accuracy: 0.923\n",
            "Test loss: 11.310\n",
            "[[3306    0]\n",
            " [ 274    0]]\n",
            "\n"
          ]
        },
        {
          "output_type": "stream",
          "name": "stderr",
          "text": [
            "/usr/local/lib/python3.7/dist-packages/keras/optimizer_v2/adam.py:105: UserWarning: The `lr` argument is deprecated, use `learning_rate` instead.\n",
            "  super(Adam, self).__init__(name, **kwargs)\n"
          ]
        },
        {
          "output_type": "stream",
          "name": "stdout",
          "text": [
            "112/112 [==============================] - 0s 2ms/step - loss: 72.7505 - accuracy: 0.9235\n",
            "Learning rate =  10.0\n",
            "lambda =  0.6812920690579622\n",
            "Test accuracy: 0.923\n",
            "Test loss: 72.751\n",
            "[[3306    0]\n",
            " [ 274    0]]\n",
            "\n"
          ]
        },
        {
          "output_type": "stream",
          "name": "stderr",
          "text": [
            "/usr/local/lib/python3.7/dist-packages/keras/optimizer_v2/adam.py:105: UserWarning: The `lr` argument is deprecated, use `learning_rate` instead.\n",
            "  super(Adam, self).__init__(name, **kwargs)\n"
          ]
        },
        {
          "output_type": "stream",
          "name": "stdout",
          "text": [
            "112/112 [==============================] - 0s 1ms/step - loss: 1705.0477 - accuracy: 0.0765\n",
            "Learning rate =  10.0\n",
            "lambda =  10.0\n",
            "Test accuracy: 0.077\n",
            "Test loss: 1705.048\n",
            "[[   0 3306]\n",
            " [   0  274]]\n",
            "\n"
          ]
        }
      ],
      "source": [
        "Network_keras=np.zeros((len(eta_values),len(lmbd_values)),dtype=object)\n",
        "from sklearn.metrics import confusion_matrix\n",
        "#looking for bets hyperparameters\n",
        "for i, eta in enumerate(eta_values):\n",
        "    for j, lmbd in enumerate(lmbd_values):\n",
        "        Network = neural_network(neurons_layer1, neurons_layer2, n_categories, eta=eta, lmbd=lmbd)\n",
        "        Network.fit(trainX_scaled, Y_train, epochs=epochs, batch_size=batch_size, verbose=0, class_weight=class_weights[0])\n",
        "        scores = Network.evaluate(testX_scaled, Y_test)\n",
        "        \n",
        "        Network_keras[i][j] = Network\n",
        "        \n",
        "        print(\"Learning rate = \", eta)\n",
        "        print(\"lambda = \", lmbd)\n",
        "        print(\"Test accuracy: %.3f\" % scores[1])\n",
        "        print(\"Test loss: %.3f\" % scores[0])\n",
        "        \n",
        "        predicted= Network.predict(testX_scaled)\n",
        "        predicted=np.argmax(predicted, axis=1)\n",
        "        Y_test2=np.argmax(Y_test, axis=1)\n",
        "        cm = confusion_matrix(Y_test2,predicted)\n",
        "        print(cm)\n",
        "        print()"
      ]
    },
    {
      "cell_type": "code",
      "source": [
        "Network.summary()"
      ],
      "metadata": {
        "colab": {
          "base_uri": "https://localhost:8080/"
        },
        "id": "CpIeudly70Zw",
        "outputId": "3754c57f-8368-4819-f937-7be79c668859"
      },
      "execution_count": null,
      "outputs": [
        {
          "output_type": "stream",
          "name": "stdout",
          "text": [
            "Model: \"sequential_87\"\n",
            "_________________________________________________________________\n",
            " Layer (type)                Output Shape              Param #   \n",
            "=================================================================\n",
            " dense_261 (Dense)           (None, 60)                420       \n",
            "                                                                 \n",
            " dense_262 (Dense)           (None, 60)                3660      \n",
            "                                                                 \n",
            " dense_263 (Dense)           (None, 2)                 122       \n",
            "                                                                 \n",
            "=================================================================\n",
            "Total params: 4,202\n",
            "Trainable params: 4,202\n",
            "Non-trainable params: 0\n",
            "_________________________________________________________________\n"
          ]
        }
      ]
    },
    {
      "cell_type": "code",
      "source": [
        "from sklearn.metrics import confusion_matrix\n",
        "#checking specific models\n",
        "Network = neural_network(neurons_layer1, neurons_layer2, n_categories, \n",
        "                            eta=0.0031622776601683794, lmbd=0.00316227766016837943)\n",
        "history =Network.fit(trainX_scaled, Y_train, epochs=epochs, batch_size=batch_size, verbose=0, class_weight=class_weights[0])\n",
        "scores = Network.evaluate(testX_scaled, Y_test)\n",
        "\n",
        "        \n",
        "print(\"Learning rate = \", eta)\n",
        "print(\"lambda = \", lmbd)\n",
        "print(\"Test accuracy: %.3f\" % scores[1])\n",
        "print(\"Test loss: %.3f\" % scores[0])\n",
        "predicted= Network.predict(X_test)\n",
        "predicted=np.argmax(predicted, axis=1)\n",
        "Y_test2=np.argmax(Y_test, axis=1)\n",
        "\n",
        "#confusion matrix\n",
        "cm = confusion_matrix(Y_test2,predicted)\n",
        "print(cm)\n",
        "\n",
        "#history of the training \n",
        "show_history(history)\n",
        "plot_history(history, path=\"standard.png\")\n"
      ],
      "metadata": {
        "colab": {
          "base_uri": "https://localhost:8080/",
          "height": 1000
        },
        "id": "ZQOdXsxwUnbI",
        "outputId": "c046a999-1d25-44d9-de2a-35f3abcdb043"
      },
      "execution_count": null,
      "outputs": [
        {
          "output_type": "stream",
          "name": "stderr",
          "text": [
            "/usr/local/lib/python3.7/dist-packages/keras/optimizer_v2/adam.py:105: UserWarning: The `lr` argument is deprecated, use `learning_rate` instead.\n",
            "  super(Adam, self).__init__(name, **kwargs)\n"
          ]
        },
        {
          "output_type": "stream",
          "name": "stdout",
          "text": [
            "112/112 [==============================] - 0s 1ms/step - loss: 0.1897 - accuracy: 0.9668\n",
            "Learning rate =  10.0\n",
            "lambda =  10.0\n",
            "Test accuracy: 0.967\n",
            "Test loss: 0.190\n",
            "[[3305    1]\n",
            " [ 178   96]]\n"
          ]
        },
        {
          "output_type": "display_data",
          "data": {
            "image/png": "[encoded data removed]",
            "text/plain": [
              "<Figure size 720x360 with 2 Axes>"
            ]
          },
          "metadata": {}
        },
        {
          "output_type": "execute_result",
          "data": {
            "text/plain": [
              "(<Figure size 720x360 with 2 Axes>,\n",
              " array([<matplotlib.axes._subplots.AxesSubplot object at 0x7ff858c084d0>,\n",
              "        <matplotlib.axes._subplots.AxesSubplot object at 0x7ff8515b4d90>],\n",
              "       dtype=object))"
            ]
          },
          "metadata": {},
          "execution_count": 106
        },
        {
          "output_type": "display_data",
          "data": {
            "image/png": "[encoded data removed]",
            "text/plain": [
              "<Figure size 720x360 with 2 Axes>"
            ]
          },
          "metadata": {}
        }
      ]
    },
    {
      "cell_type": "code",
      "execution_count": null,
      "metadata": {
        "colab": {
          "base_uri": "https://localhost:8080/",
          "height": 1000
        },
        "id": "-ArZF46Smu5e",
        "outputId": "54da0a0f-293b-45e0-843e-7b1d681fa6a8"
      },
      "outputs": [
        {
          "output_type": "stream",
          "name": "stdout",
          "text": [
            "448/448 [==============================] - 1s 1ms/step - loss: 0.7556 - accuracy: 0.0953\n",
            "112/112 [==============================] - 0s 1ms/step - loss: 0.7589 - accuracy: 0.0765\n",
            "448/448 [==============================] - 1s 1ms/step - loss: 0.6397 - accuracy: 0.9047\n",
            "112/112 [==============================] - 0s 1ms/step - loss: 0.6378 - accuracy: 0.9235\n",
            "448/448 [==============================] - 1s 1ms/step - loss: 0.6736 - accuracy: 0.9420\n",
            "112/112 [==============================] - 0s 1ms/step - loss: 0.6730 - accuracy: 0.9514\n",
            "448/448 [==============================] - 1s 1ms/step - loss: 1.0512 - accuracy: 0.0953\n",
            "112/112 [==============================] - 0s 2ms/step - loss: 1.0581 - accuracy: 0.0765\n",
            "448/448 [==============================] - 1s 1ms/step - loss: 3.5150 - accuracy: 0.9047\n",
            "112/112 [==============================] - 0s 1ms/step - loss: 3.5075 - accuracy: 0.9235\n",
            "448/448 [==============================] - 1s 1ms/step - loss: 43.9317 - accuracy: 0.0953\n",
            "112/112 [==============================] - 0s 1ms/step - loss: 43.9399 - accuracy: 0.0765\n",
            "448/448 [==============================] - 1s 1ms/step - loss: 617.6057 - accuracy: 0.0953\n",
            "112/112 [==============================] - 0s 1ms/step - loss: 617.6113 - accuracy: 0.0765\n",
            "448/448 [==============================] - 1s 1ms/step - loss: 0.2739 - accuracy: 0.9327\n",
            "112/112 [==============================] - 0s 1ms/step - loss: 0.2711 - accuracy: 0.9402\n",
            "448/448 [==============================] - 1s 1ms/step - loss: 0.2707 - accuracy: 0.9325\n",
            "112/112 [==============================] - 0s 1ms/step - loss: 0.2683 - accuracy: 0.9369\n",
            "448/448 [==============================] - 1s 1ms/step - loss: 0.3019 - accuracy: 0.9343\n",
            "112/112 [==============================] - 0s 2ms/step - loss: 0.2986 - accuracy: 0.9422\n",
            "448/448 [==============================] - 1s 1ms/step - loss: 0.4852 - accuracy: 0.9379\n",
            "112/112 [==============================] - 0s 1ms/step - loss: 0.4834 - accuracy: 0.9455\n",
            "448/448 [==============================] - 1s 1ms/step - loss: 0.9057 - accuracy: 0.9563\n",
            "112/112 [==============================] - 0s 1ms/step - loss: 0.9055 - accuracy: 0.9617\n",
            "448/448 [==============================] - 1s 2ms/step - loss: 3.6892 - accuracy: 0.9097\n",
            "112/112 [==============================] - 0s 2ms/step - loss: 3.6890 - accuracy: 0.9282\n",
            "448/448 [==============================] - 1s 2ms/step - loss: 46.2810 - accuracy: 0.9047\n",
            "112/112 [==============================] - 0s 1ms/step - loss: 46.2808 - accuracy: 0.9235\n",
            "448/448 [==============================] - 1s 1ms/step - loss: 0.1393 - accuracy: 0.9672\n",
            "112/112 [==============================] - 0s 2ms/step - loss: 0.1345 - accuracy: 0.9709\n",
            "448/448 [==============================] - 1s 1ms/step - loss: 0.1355 - accuracy: 0.9695\n",
            "112/112 [==============================] - 0s 2ms/step - loss: 0.1305 - accuracy: 0.9729\n",
            "448/448 [==============================] - 1s 1ms/step - loss: 0.1627 - accuracy: 0.9679\n",
            "112/112 [==============================] - 0s 2ms/step - loss: 0.1587 - accuracy: 0.9709\n",
            "448/448 [==============================] - 1s 1ms/step - loss: 0.2367 - accuracy: 0.9619\n",
            "112/112 [==============================] - 0s 1ms/step - loss: 0.2341 - accuracy: 0.9668\n",
            "448/448 [==============================] - 1s 2ms/step - loss: 0.7154 - accuracy: 0.0953\n",
            "112/112 [==============================] - 0s 1ms/step - loss: 0.7164 - accuracy: 0.0765\n",
            "448/448 [==============================] - 1s 2ms/step - loss: 0.6931 - accuracy: 0.9047\n",
            "112/112 [==============================] - 0s 2ms/step - loss: 0.6931 - accuracy: 0.9235\n",
            "448/448 [==============================] - 1s 1ms/step - loss: 0.6964 - accuracy: 0.0953\n",
            "112/112 [==============================] - 0s 1ms/step - loss: 0.6965 - accuracy: 0.0765\n",
            "448/448 [==============================] - 1s 1ms/step - loss: 0.1549 - accuracy: 0.9569\n",
            "112/112 [==============================] - 0s 1ms/step - loss: 0.1525 - accuracy: 0.9603\n",
            "448/448 [==============================] - 1s 2ms/step - loss: 0.1298 - accuracy: 0.9688\n",
            "112/112 [==============================] - 0s 2ms/step - loss: 0.1266 - accuracy: 0.9712\n",
            "448/448 [==============================] - 1s 2ms/step - loss: 0.1336 - accuracy: 0.9734\n",
            "112/112 [==============================] - 0s 1ms/step - loss: 0.1285 - accuracy: 0.9771\n",
            "448/448 [==============================] - 1s 2ms/step - loss: 0.1348 - accuracy: 0.9763\n",
            "112/112 [==============================] - 0s 2ms/step - loss: 0.1272 - accuracy: 0.9813\n",
            "448/448 [==============================] - 1s 2ms/step - loss: 0.6393 - accuracy: 0.9047\n",
            "112/112 [==============================] - 0s 1ms/step - loss: 0.6366 - accuracy: 0.9235\n",
            "448/448 [==============================] - 1s 1ms/step - loss: 0.7264 - accuracy: 0.0953\n",
            "112/112 [==============================] - 0s 2ms/step - loss: 0.7279 - accuracy: 0.0765\n",
            "448/448 [==============================] - 1s 2ms/step - loss: 0.7069 - accuracy: 0.0953\n",
            "112/112 [==============================] - 0s 2ms/step - loss: 0.7072 - accuracy: 0.0765\n",
            "448/448 [==============================] - 1s 2ms/step - loss: 0.2839 - accuracy: 0.9385\n",
            "112/112 [==============================] - 0s 1ms/step - loss: 0.2868 - accuracy: 0.9405\n",
            "448/448 [==============================] - 1s 1ms/step - loss: 0.1380 - accuracy: 0.9680\n",
            "112/112 [==============================] - 0s 1ms/step - loss: 0.1357 - accuracy: 0.9698\n",
            "448/448 [==============================] - 1s 1ms/step - loss: 0.1876 - accuracy: 0.9487\n",
            "112/112 [==============================] - 0s 2ms/step - loss: 0.1835 - accuracy: 0.9503\n",
            "448/448 [==============================] - 1s 2ms/step - loss: 0.1762 - accuracy: 0.9638\n",
            "112/112 [==============================] - 0s 1ms/step - loss: 0.1735 - accuracy: 0.9679\n",
            "448/448 [==============================] - 1s 1ms/step - loss: 0.6706 - accuracy: 0.9047\n",
            "112/112 [==============================] - 0s 1ms/step - loss: 0.6696 - accuracy: 0.9235\n",
            "448/448 [==============================] - 1s 2ms/step - loss: 0.6306 - accuracy: 0.9047\n",
            "112/112 [==============================] - 0s 2ms/step - loss: 0.6274 - accuracy: 0.9235\n",
            "448/448 [==============================] - 1s 2ms/step - loss: 0.7300 - accuracy: 0.0953\n",
            "112/112 [==============================] - 0s 1ms/step - loss: 0.7300 - accuracy: 0.0765\n",
            "448/448 [==============================] - 1s 1ms/step - loss: 1.7632 - accuracy: 0.0953\n",
            "112/112 [==============================] - 0s 1ms/step - loss: 1.7964 - accuracy: 0.0765\n",
            "448/448 [==============================] - 1s 2ms/step - loss: 0.3646 - accuracy: 0.9047\n",
            "112/112 [==============================] - 0s 1ms/step - loss: 0.3247 - accuracy: 0.9235\n",
            "448/448 [==============================] - 1s 1ms/step - loss: 0.3465 - accuracy: 0.9047\n",
            "112/112 [==============================] - 0s 1ms/step - loss: 0.3187 - accuracy: 0.9235\n",
            "448/448 [==============================] - 1s 2ms/step - loss: 0.6626 - accuracy: 0.9047\n",
            "112/112 [==============================] - 0s 2ms/step - loss: 0.6609 - accuracy: 0.9235\n",
            "448/448 [==============================] - 1s 2ms/step - loss: 1.3010 - accuracy: 0.0953\n",
            "112/112 [==============================] - 0s 2ms/step - loss: 1.3201 - accuracy: 0.0765\n",
            "448/448 [==============================] - 1s 2ms/step - loss: 1.5982 - accuracy: 0.9047\n",
            "112/112 [==============================] - 0s 2ms/step - loss: 1.5874 - accuracy: 0.9235\n",
            "448/448 [==============================] - 1s 1ms/step - loss: 17.6898 - accuracy: 0.0953\n",
            "112/112 [==============================] - 0s 2ms/step - loss: 17.6976 - accuracy: 0.0765\n",
            "448/448 [==============================] - 1s 2ms/step - loss: 4.4446 - accuracy: 0.9047\n",
            "112/112 [==============================] - 0s 2ms/step - loss: 3.8188 - accuracy: 0.9235\n",
            "448/448 [==============================] - 1s 2ms/step - loss: 5.2942 - accuracy: 0.9047\n",
            "112/112 [==============================] - 0s 1ms/step - loss: 4.2504 - accuracy: 0.9235\n",
            "448/448 [==============================] - 1s 2ms/step - loss: 24.5160 - accuracy: 0.0953\n",
            "112/112 [==============================] - 0s 2ms/step - loss: 24.5968 - accuracy: 0.0765\n",
            "448/448 [==============================] - 1s 2ms/step - loss: 4.0325 - accuracy: 0.9047\n",
            "112/112 [==============================] - 0s 1ms/step - loss: 3.5846 - accuracy: 0.9235\n",
            "448/448 [==============================] - 1s 2ms/step - loss: 13.1879 - accuracy: 0.9047\n",
            "112/112 [==============================] - 0s 1ms/step - loss: 11.3105 - accuracy: 0.9235\n",
            "448/448 [==============================] - 1s 1ms/step - loss: 72.8346 - accuracy: 0.9047\n",
            "112/112 [==============================] - 0s 2ms/step - loss: 72.7505 - accuracy: 0.9235\n",
            "448/448 [==============================] - 1s 2ms/step - loss: 1705.0380 - accuracy: 0.0953\n",
            "112/112 [==============================] - 0s 1ms/step - loss: 1705.0477 - accuracy: 0.0765\n"
          ]
        },
        {
          "output_type": "display_data",
          "data": {
            "image/png": "[encoded data removed]",
            "text/plain": [
              "<Figure size 720x720 with 3 Axes>"
            ]
          },
          "metadata": {}
        },
        {
          "output_type": "display_data",
          "data": {
            "image/png": "[encoded data removed]",
            "text/plain": [
              "<Figure size 720x720 with 3 Axes>"
            ]
          },
          "metadata": {}
        }
      ],
      "source": [
        "#Implementing the grid search \n",
        "import seaborn as sns\n",
        "import matplotlib.pyplot as plt\n",
        "\n",
        "sns.set()\n",
        "\n",
        "train_accuracy = np.zeros((len(eta_values), len(lmbd_values)))\n",
        "test_accuracy = np.zeros((len(eta_values), len(lmbd_values)))\n",
        "\n",
        "for i in range(len(eta_values)):\n",
        "    for j in range(len(lmbd_values)):\n",
        "        Network = Network_keras[i][j]\n",
        "\n",
        "        train_accuracy[i][j] = Network.evaluate(trainX_scaled, Y_train)[1]\n",
        "        test_accuracy[i][j] = Network.evaluate(testX_scaled, Y_test)[1]\n",
        "\n",
        "      \n",
        "fig, ax = plt.subplots(figsize = (10, 10))\n",
        "sns.heatmap(train_accuracy, annot=True, ax=ax, cmap=\"viridis\")\n",
        "ax.set_title(\"Training Accuracy\")\n",
        "ax.set_ylabel(\"$\\eta$\")\n",
        "ax.set_xlabel(\"$\\lambda$\")\n",
        "plt.plot(heatmap2=sns.heatmap(train_accuracy, annot=True, ax=ax, cmap=\"viridis\"))\n",
        "ax.set_title(\"Training Accuracy\")\n",
        "ax.set_ylabel(\"$\\eta$\")\n",
        "ax.set_xlabel(\"$\\lambda$\")\n",
        "plt.savefig(\"/content/training_accuracy3.png\")\n",
        "\n",
        "fig, ax = plt.subplots(figsize = (10, 10))\n",
        "sns.heatmap(test_accuracy, annot=True, ax=ax, cmap=\"viridis\")\n",
        "ax.set_title(\"Test Accuracy\")\n",
        "ax.set_ylabel(\"$\\eta$\")\n",
        "ax.set_xlabel(\"$\\lambda$\")\n",
        "plt.plot(heatmap3=sns.heatmap(test_accuracy, annot=True, ax=ax, cmap=\"viridis\"))\n",
        "ax.set_title(\"Test Accuracy\")\n",
        "ax.set_ylabel(\"$\\eta$\")\n",
        "ax.set_xlabel(\"$\\lambda$\")\n",
        "plt.savefig(\"/content/test_accuracy3.png\")"
      ]
    }
  ],
  "metadata": {
    "colab": {
      "name": "modifieddata.ipynb",
      "provenance": [],
      "collapsed_sections": []
    },
    "kernelspec": {
      "display_name": "Python 3",
      "name": "python3"
    },
    "language_info": {
      "name": "python"
    }
  },
  "nbformat": 4,
  "nbformat_minor": 0
}